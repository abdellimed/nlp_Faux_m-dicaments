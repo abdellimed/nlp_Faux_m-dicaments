{
  "nbformat": 4,
  "nbformat_minor": 0,
  "metadata": {
    "colab": {
      "provenance": []
    },
    "kernelspec": {
      "name": "python3",
      "display_name": "Python 3"
    }
  },
  "cells": [
    {
      "cell_type": "code",
      "metadata": {
        "id": "wk7DrBecJF88",
        "outputId": "80c79bc9-1b3f-4b46-93b9-3b117b226cf0",
        "colab": {
          "base_uri": "https://localhost:8080/",
          "height": 34
        }
      },
      "source": [
        "import numpy as np # linear algebra\n",
        "import pandas as pd # data processing, CSV file I/O (e.g. pd.read_csv)\n",
        "from keras.layers import Dense, Embedding, LSTM, SpatialDropout1D\n",
        "from keras.models import Sequential\n",
        "from sklearn.feature_extraction.text import CountVectorizer\n",
        "from keras.preprocessing.text import Tokenizer\n",
        "from keras.preprocessing.sequence import pad_sequences\n",
        "from sklearn.model_selection import train_test_split\n",
        "from keras.utils.np_utils import to_categorical\n",
        "from keras.callbacks import EarlyStopping\n",
        "\n",
        "# Input data files are available in the \"../input/\" directory.\n",
        "# For example, running this (by clicking run or pressing Shift+Enter) will list the files in the input directory\n",
        "\n",
        "import os\n",
        "print(os.listdir(\"/content\"))"
      ],
      "execution_count": null,
      "outputs": [
        {
          "output_type": "stream",
          "text": [
            "['.config', 'sample_data']\n"
          ],
          "name": "stdout"
        }
      ]
    },
    {
      "cell_type": "code",
      "metadata": {
        "id": "oA0-Y356ir2v"
      },
      "source": [
        "data = pd.read_csv('/content/uci-news-aggregator.csv',encoding = \"utf-8\", usecols=['TITLE', 'CATEGORY'])"
      ],
      "execution_count": null,
      "outputs": []
    },
    {
      "cell_type": "code",
      "metadata": {
        "id": "aPXUkDJny49R",
        "outputId": "32ff4a6c-a66b-4e0e-ca73-12994a475c1f",
        "colab": {
          "base_uri": "https://localhost:8080/",
          "height": 102
        }
      },
      "source": [
        "data.CATEGORY.value_counts()"
      ],
      "execution_count": null,
      "outputs": [
        {
          "output_type": "execute_result",
          "data": {
            "text/plain": [
              "e    112740\n",
              "b     87884\n",
              "t     81134\n",
              "m     33121\n",
              "Name: CATEGORY, dtype: int64"
            ]
          },
          "metadata": {
            "tags": []
          },
          "execution_count": 6
        }
      ]
    },
    {
      "cell_type": "code",
      "metadata": {
        "id": "1OKrnTikz7En"
      },
      "source": [
        "#I do aspire here to have balanced classes\n",
        "num_of_categories = 45000\n",
        "shuffled = data.reindex(np.random.permutation(data.index))\n",
        "e = shuffled[shuffled['CATEGORY'] == 'e'][:num_of_categories]\n",
        "b = shuffled[shuffled['CATEGORY'] == 'b'][:num_of_categories]\n",
        "t = shuffled[shuffled['CATEGORY'] == 't'][:num_of_categories]\n",
        "m = shuffled[shuffled['CATEGORY'] == 'm'][:num_of_categories]\n",
        "concated = pd.concat([e,b,t,m], ignore_index=True)\n",
        "#Shuffle the dataset\n",
        "concated = concated.reindex(np.random.permutation(concated.index))\n",
        "concated['LABEL'] = 0"
      ],
      "execution_count": null,
      "outputs": []
    },
    {
      "cell_type": "code",
      "metadata": {
        "id": "yn_0PLlhz-vM",
        "outputId": "8e37fbfc-9e21-4608-e403-97b3d09fd017",
        "colab": {
          "base_uri": "https://localhost:8080/",
          "height": 374
        }
      },
      "source": [
        "#One-hot encode the lab\n",
        "concated.loc[concated['CATEGORY'] == 'e', 'LABEL'] = 0\n",
        "concated.loc[concated['CATEGORY'] == 'b', 'LABEL'] = 1\n",
        "concated.loc[concated['CATEGORY'] == 't', 'LABEL'] = 2\n",
        "concated.loc[concated['CATEGORY'] == 'm', 'LABEL'] = 3\n",
        "print(concated['LABEL'][:10])\n",
        "labels = to_categorical(concated['LABEL'], num_classes=4)\n",
        "print(labels[:10])\n",
        "if 'CATEGORY' in concated.keys():\n",
        "    concated.drop(['CATEGORY'], axis=1)"
      ],
      "execution_count": null,
      "outputs": [
        {
          "output_type": "stream",
          "text": [
            "42365     0\n",
            "141091    3\n",
            "118561    2\n",
            "95019     2\n",
            "76700     1\n",
            "431       0\n",
            "9624      0\n",
            "80787     1\n",
            "134811    2\n",
            "55819     1\n",
            "Name: LABEL, dtype: int64\n",
            "[[1. 0. 0. 0.]\n",
            " [0. 0. 0. 1.]\n",
            " [0. 0. 1. 0.]\n",
            " [0. 0. 1. 0.]\n",
            " [0. 1. 0. 0.]\n",
            " [1. 0. 0. 0.]\n",
            " [1. 0. 0. 0.]\n",
            " [0. 1. 0. 0.]\n",
            " [0. 0. 1. 0.]\n",
            " [0. 1. 0. 0.]]\n"
          ],
          "name": "stdout"
        }
      ]
    },
    {
      "cell_type": "code",
      "metadata": {
        "id": "TMzCV57f0mxk",
        "outputId": "cb568afd-d70b-4281-f6fd-38f729521496",
        "colab": {
          "base_uri": "https://localhost:8080/",
          "height": 419
        }
      },
      "source": [
        "concated"
      ],
      "execution_count": null,
      "outputs": [
        {
          "output_type": "execute_result",
          "data": {
            "text/html": [
              "<div>\n",
              "<style scoped>\n",
              "    .dataframe tbody tr th:only-of-type {\n",
              "        vertical-align: middle;\n",
              "    }\n",
              "\n",
              "    .dataframe tbody tr th {\n",
              "        vertical-align: top;\n",
              "    }\n",
              "\n",
              "    .dataframe thead th {\n",
              "        text-align: right;\n",
              "    }\n",
              "</style>\n",
              "<table border=\"1\" class=\"dataframe\">\n",
              "  <thead>\n",
              "    <tr style=\"text-align: right;\">\n",
              "      <th></th>\n",
              "      <th>TITLE</th>\n",
              "      <th>CATEGORY</th>\n",
              "      <th>LABEL</th>\n",
              "    </tr>\n",
              "  </thead>\n",
              "  <tbody>\n",
              "    <tr>\n",
              "      <th>42365</th>\n",
              "      <td>Anna Wintour Says Kanye West Didn't Beg Her to...</td>\n",
              "      <td>e</td>\n",
              "      <td>0</td>\n",
              "    </tr>\n",
              "    <tr>\n",
              "      <th>141091</th>\n",
              "      <td>Officials Rescind Report Of MERs Spread In US</td>\n",
              "      <td>m</td>\n",
              "      <td>3</td>\n",
              "    </tr>\n",
              "    <tr>\n",
              "      <th>118561</th>\n",
              "      <td>Bungie finally explains the structure of Destiny</td>\n",
              "      <td>t</td>\n",
              "      <td>2</td>\n",
              "    </tr>\n",
              "    <tr>\n",
              "      <th>95019</th>\n",
              "      <td>Legislators Offer Bill Requiring FCC to Act on...</td>\n",
              "      <td>t</td>\n",
              "      <td>2</td>\n",
              "    </tr>\n",
              "    <tr>\n",
              "      <th>76700</th>\n",
              "      <td>Draghi warns against rising euro</td>\n",
              "      <td>b</td>\n",
              "      <td>1</td>\n",
              "    </tr>\n",
              "    <tr>\n",
              "      <th>...</th>\n",
              "      <td>...</td>\n",
              "      <td>...</td>\n",
              "      <td>...</td>\n",
              "    </tr>\n",
              "    <tr>\n",
              "      <th>53788</th>\n",
              "      <td>DEA Backs Down; Kentucky Will Get Its Hemp Seeds</td>\n",
              "      <td>b</td>\n",
              "      <td>1</td>\n",
              "    </tr>\n",
              "    <tr>\n",
              "      <th>135227</th>\n",
              "      <td>Saudi Arabia reports 2 deaths, 10 new MERS cor...</td>\n",
              "      <td>m</td>\n",
              "      <td>3</td>\n",
              "    </tr>\n",
              "    <tr>\n",
              "      <th>72362</th>\n",
              "      <td>The Walt Disney Company (DIS) Buys YouTube Net...</td>\n",
              "      <td>b</td>\n",
              "      <td>1</td>\n",
              "    </tr>\n",
              "    <tr>\n",
              "      <th>85661</th>\n",
              "      <td>Credit Suisse Rises as U.S. Guilty Plea Ends 3...</td>\n",
              "      <td>b</td>\n",
              "      <td>1</td>\n",
              "    </tr>\n",
              "    <tr>\n",
              "      <th>104996</th>\n",
              "      <td>Climate change 'will' shape Asia's future</td>\n",
              "      <td>t</td>\n",
              "      <td>2</td>\n",
              "    </tr>\n",
              "  </tbody>\n",
              "</table>\n",
              "<p>168121 rows × 3 columns</p>\n",
              "</div>"
            ],
            "text/plain": [
              "                                                    TITLE CATEGORY  LABEL\n",
              "42365   Anna Wintour Says Kanye West Didn't Beg Her to...        e      0\n",
              "141091      Officials Rescind Report Of MERs Spread In US        m      3\n",
              "118561   Bungie finally explains the structure of Destiny        t      2\n",
              "95019   Legislators Offer Bill Requiring FCC to Act on...        t      2\n",
              "76700                    Draghi warns against rising euro        b      1\n",
              "...                                                   ...      ...    ...\n",
              "53788    DEA Backs Down; Kentucky Will Get Its Hemp Seeds        b      1\n",
              "135227  Saudi Arabia reports 2 deaths, 10 new MERS cor...        m      3\n",
              "72362   The Walt Disney Company (DIS) Buys YouTube Net...        b      1\n",
              "85661   Credit Suisse Rises as U.S. Guilty Plea Ends 3...        b      1\n",
              "104996          Climate change 'will' shape Asia's future        t      2\n",
              "\n",
              "[168121 rows x 3 columns]"
            ]
          },
          "metadata": {
            "tags": []
          },
          "execution_count": 19
        }
      ]
    },
    {
      "cell_type": "code",
      "metadata": {
        "id": "uai2Md6T0sus",
        "outputId": "8fed47e0-84e3-4d28-83a7-149c72fd5ce9",
        "colab": {
          "base_uri": "https://localhost:8080/",
          "height": 34
        }
      },
      "source": [
        "n_most_common_words = 8000\n",
        "max_len = 130\n",
        "tokenizer = Tokenizer(num_words=n_most_common_words, filters='!\"#$%&()*+,-./:;<=>?@[\\]^_`{|}~', lower=True)\n",
        "tokenizer.fit_on_texts(concated['TITLE'].values)\n",
        "sequences = tokenizer.texts_to_sequences(concated['TITLE'].values)\n",
        "word_index = tokenizer.word_index\n",
        "print('Found %s unique tokens.' % len(word_index))\n",
        "\n",
        "X = pad_sequences(sequences, maxlen=max_len)"
      ],
      "execution_count": null,
      "outputs": [
        {
          "output_type": "stream",
          "text": [
            "Found 49999 unique tokens.\n"
          ],
          "name": "stdout"
        }
      ]
    },
    {
      "cell_type": "code",
      "metadata": {
        "id": "yWYEvaMr1kGI"
      },
      "source": [
        "X_train, X_test, y_train, y_test = train_test_split(X , labels, test_size=0.25, random_state=42)"
      ],
      "execution_count": null,
      "outputs": []
    },
    {
      "cell_type": "code",
      "metadata": {
        "id": "Vm5B7yrq12tC",
        "outputId": "1f2f75df-8a38-433f-b8c4-8225751fb9e9",
        "colab": {
          "base_uri": "https://localhost:8080/",
          "height": 51
        }
      },
      "source": [
        "epochs = 10\n",
        "emb_dim = 128\n",
        "batch_size = 256\n",
        "labels[:2]"
      ],
      "execution_count": null,
      "outputs": [
        {
          "output_type": "execute_result",
          "data": {
            "text/plain": [
              "array([[1., 0., 0., 0.],\n",
              "       [0., 0., 0., 1.]], dtype=float32)"
            ]
          },
          "metadata": {
            "tags": []
          },
          "execution_count": 14
        }
      ]
    },
    {
      "cell_type": "code",
      "metadata": {
        "id": "46iDIjKM2D1M",
        "outputId": "e41cfec5-0079-449b-9676-5fc0d22b41e5",
        "colab": {
          "base_uri": "https://localhost:8080/",
          "height": 1000
        }
      },
      "source": [
        "print((X_train.shape, y_train.shape, X_test.shape, y_test.shape))\n",
        "\n",
        "model = Sequential()\n",
        "model.add(Embedding(n_most_common_words, emb_dim, input_length=X.shape[1]))\n",
        "model.add(SpatialDropout1D(0.7))\n",
        "model.add(LSTM(64, dropout=0.7, recurrent_dropout=0.7))\n",
        "model.add(Dense(4, activation='softmax'))\n",
        "model.compile(optimizer='adam', loss='categorical_crossentropy', metrics=['acc'])\n",
        "print(model.summary())\n",
        "history = model.fit(X_train, y_train, epochs=epochs, batch_size=batch_size,validation_split=0.2,callbacks=[EarlyStopping(monitor='val_loss',patience=7, min_delta=0.0001)])"
      ],
      "execution_count": null,
      "outputs": [
        {
          "output_type": "stream",
          "text": [
            "((126090, 130), (126090, 4), (42031, 130), (42031, 4))\n",
            "WARNING:tensorflow:From /usr/local/lib/python3.6/dist-packages/keras/backend/tensorflow_backend.py:66: The name tf.get_default_graph is deprecated. Please use tf.compat.v1.get_default_graph instead.\n",
            "\n",
            "WARNING:tensorflow:From /usr/local/lib/python3.6/dist-packages/keras/backend/tensorflow_backend.py:541: The name tf.placeholder is deprecated. Please use tf.compat.v1.placeholder instead.\n",
            "\n",
            "WARNING:tensorflow:From /usr/local/lib/python3.6/dist-packages/keras/backend/tensorflow_backend.py:4432: The name tf.random_uniform is deprecated. Please use tf.random.uniform instead.\n",
            "\n",
            "WARNING:tensorflow:From /usr/local/lib/python3.6/dist-packages/keras/backend/tensorflow_backend.py:148: The name tf.placeholder_with_default is deprecated. Please use tf.compat.v1.placeholder_with_default instead.\n",
            "\n",
            "WARNING:tensorflow:From /usr/local/lib/python3.6/dist-packages/keras/backend/tensorflow_backend.py:3733: calling dropout (from tensorflow.python.ops.nn_ops) with keep_prob is deprecated and will be removed in a future version.\n",
            "Instructions for updating:\n",
            "Please use `rate` instead of `keep_prob`. Rate should be set to `rate = 1 - keep_prob`.\n",
            "WARNING:tensorflow:Large dropout rate: 0.7 (>0.5). In TensorFlow 2.x, dropout() uses dropout rate instead of keep_prob. Please ensure that this is intended.\n",
            "WARNING:tensorflow:Large dropout rate: 0.7 (>0.5). In TensorFlow 2.x, dropout() uses dropout rate instead of keep_prob. Please ensure that this is intended.\n",
            "WARNING:tensorflow:Large dropout rate: 0.7 (>0.5). In TensorFlow 2.x, dropout() uses dropout rate instead of keep_prob. Please ensure that this is intended.\n",
            "WARNING:tensorflow:Large dropout rate: 0.7 (>0.5). In TensorFlow 2.x, dropout() uses dropout rate instead of keep_prob. Please ensure that this is intended.\n",
            "WARNING:tensorflow:Large dropout rate: 0.7 (>0.5). In TensorFlow 2.x, dropout() uses dropout rate instead of keep_prob. Please ensure that this is intended.\n",
            "WARNING:tensorflow:From /usr/local/lib/python3.6/dist-packages/keras/optimizers.py:793: The name tf.train.Optimizer is deprecated. Please use tf.compat.v1.train.Optimizer instead.\n",
            "\n",
            "WARNING:tensorflow:From /usr/local/lib/python3.6/dist-packages/keras/backend/tensorflow_backend.py:3576: The name tf.log is deprecated. Please use tf.math.log instead.\n",
            "\n",
            "Model: \"sequential_1\"\n",
            "_________________________________________________________________\n",
            "Layer (type)                 Output Shape              Param #   \n",
            "=================================================================\n",
            "embedding_1 (Embedding)      (None, 130, 128)          1024000   \n",
            "_________________________________________________________________\n",
            "spatial_dropout1d_1 (Spatial (None, 130, 128)          0         \n",
            "_________________________________________________________________\n",
            "lstm_1 (LSTM)                (None, 64)                49408     \n",
            "_________________________________________________________________\n",
            "dense_1 (Dense)              (None, 4)                 260       \n",
            "=================================================================\n",
            "Total params: 1,073,668\n",
            "Trainable params: 1,073,668\n",
            "Non-trainable params: 0\n",
            "_________________________________________________________________\n",
            "None\n",
            "WARNING:tensorflow:From /usr/local/lib/python3.6/dist-packages/tensorflow_core/python/ops/math_grad.py:1424: where (from tensorflow.python.ops.array_ops) is deprecated and will be removed in a future version.\n",
            "Instructions for updating:\n",
            "Use tf.where in 2.0, which has the same broadcast rule as np.where\n",
            "WARNING:tensorflow:From /usr/local/lib/python3.6/dist-packages/keras/backend/tensorflow_backend.py:1033: The name tf.assign_add is deprecated. Please use tf.compat.v1.assign_add instead.\n",
            "\n",
            "WARNING:tensorflow:From /usr/local/lib/python3.6/dist-packages/keras/backend/tensorflow_backend.py:1020: The name tf.assign is deprecated. Please use tf.compat.v1.assign instead.\n",
            "\n",
            "WARNING:tensorflow:From /usr/local/lib/python3.6/dist-packages/keras/backend/tensorflow_backend.py:3005: The name tf.Session is deprecated. Please use tf.compat.v1.Session instead.\n",
            "\n",
            "Train on 100872 samples, validate on 25218 samples\n",
            "Epoch 1/10\n",
            "WARNING:tensorflow:From /usr/local/lib/python3.6/dist-packages/keras/backend/tensorflow_backend.py:190: The name tf.get_default_session is deprecated. Please use tf.compat.v1.get_default_session instead.\n",
            "\n",
            "WARNING:tensorflow:From /usr/local/lib/python3.6/dist-packages/keras/backend/tensorflow_backend.py:197: The name tf.ConfigProto is deprecated. Please use tf.compat.v1.ConfigProto instead.\n",
            "\n",
            "WARNING:tensorflow:From /usr/local/lib/python3.6/dist-packages/keras/backend/tensorflow_backend.py:207: The name tf.global_variables is deprecated. Please use tf.compat.v1.global_variables instead.\n",
            "\n",
            "WARNING:tensorflow:From /usr/local/lib/python3.6/dist-packages/keras/backend/tensorflow_backend.py:216: The name tf.is_variable_initialized is deprecated. Please use tf.compat.v1.is_variable_initialized instead.\n",
            "\n",
            "WARNING:tensorflow:From /usr/local/lib/python3.6/dist-packages/keras/backend/tensorflow_backend.py:223: The name tf.variables_initializer is deprecated. Please use tf.compat.v1.variables_initializer instead.\n",
            "\n",
            "100872/100872 [==============================] - 216s 2ms/step - loss: 0.8666 - acc: 0.6424 - val_loss: 0.3335 - val_acc: 0.8854\n",
            "Epoch 2/10\n",
            "100872/100872 [==============================] - 216s 2ms/step - loss: 0.3810 - acc: 0.8687 - val_loss: 0.2593 - val_acc: 0.9113\n",
            "Epoch 3/10\n",
            "100872/100872 [==============================] - 216s 2ms/step - loss: 0.3054 - acc: 0.8967 - val_loss: 0.2358 - val_acc: 0.9189\n",
            "Epoch 4/10\n",
            "100872/100872 [==============================] - 216s 2ms/step - loss: 0.2683 - acc: 0.9101 - val_loss: 0.2275 - val_acc: 0.9228\n",
            "Epoch 5/10\n",
            "100872/100872 [==============================] - 216s 2ms/step - loss: 0.2441 - acc: 0.9176 - val_loss: 0.2219 - val_acc: 0.9244\n",
            "Epoch 6/10\n",
            "100872/100872 [==============================] - 215s 2ms/step - loss: 0.2318 - acc: 0.9217 - val_loss: 0.2190 - val_acc: 0.9263\n",
            "Epoch 7/10\n",
            "100872/100872 [==============================] - 215s 2ms/step - loss: 0.2217 - acc: 0.9257 - val_loss: 0.2169 - val_acc: 0.9263\n",
            "Epoch 8/10\n",
            "100872/100872 [==============================] - 214s 2ms/step - loss: 0.2157 - acc: 0.9274 - val_loss: 0.2180 - val_acc: 0.9259\n",
            "Epoch 9/10\n",
            "100872/100872 [==============================] - 216s 2ms/step - loss: 0.2065 - acc: 0.9302 - val_loss: 0.2169 - val_acc: 0.9267\n",
            "Epoch 10/10\n",
            "100872/100872 [==============================] - 216s 2ms/step - loss: 0.2023 - acc: 0.9321 - val_loss: 0.2159 - val_acc: 0.9270\n"
          ],
          "name": "stdout"
        }
      ]
    },
    {
      "cell_type": "code",
      "metadata": {
        "id": "L9wj-S1G2MRl",
        "outputId": "4b6dcc4b-69af-4510-ccc2-8f8dfaf091bd",
        "colab": {
          "base_uri": "https://localhost:8080/",
          "height": 85
        }
      },
      "source": [
        "accr = model.evaluate(X_test,y_test)\n",
        "print('Test set\\n  Loss: {:0.3f}\\n  Accuracy: {:0.3f}'.format(accr[0],accr[1]))\n"
      ],
      "execution_count": null,
      "outputs": [
        {
          "output_type": "stream",
          "text": [
            "42031/42031 [==============================] - 37s 872us/step\n",
            "Test set\n",
            "  Loss: 0.210\n",
            "  Accuracy: 0.929\n"
          ],
          "name": "stdout"
        }
      ]
    },
    {
      "cell_type": "code",
      "metadata": {
        "id": "QPk5SQNX_HGW",
        "outputId": "2c57467f-e104-44a1-cd09-89d544dc8408",
        "colab": {
          "base_uri": "https://localhost:8080/",
          "height": 545
        }
      },
      "source": [
        "import matplotlib.pyplot as plt\n",
        "\n",
        "acc = history.history['acc']\n",
        "val_acc = history.history['val_acc']\n",
        "loss = history.history['loss']\n",
        "val_loss = history.history['val_loss']\n",
        "\n",
        "epochs = range(1, len(acc) + 1)\n",
        "\n",
        "plt.plot(epochs, acc, 'bo', label='Training acc')\n",
        "plt.plot(epochs, val_acc, 'b', label='Validation acc')\n",
        "plt.title('Training and validation accuracy')\n",
        "plt.legend()\n",
        "\n",
        "plt.figure()\n",
        "\n",
        "plt.plot(epochs, loss, 'bo', label='Training loss')\n",
        "plt.plot(epochs, val_loss, 'b', label='Validation loss')\n",
        "plt.title('Training and validation loss')\n",
        "plt.legend()\n",
        "\n",
        "plt.show()"
      ],
      "execution_count": null,
      "outputs": [
        {
          "output_type": "display_data",
          "data": {
            "image/png": "[encoded data removed]",
            "text/plain": [
              "<Figure size 432x288 with 1 Axes>"
            ]
          },
          "metadata": {
            "tags": []
          }
        },
        {
          "output_type": "display_data",
          "data": {
            "image/png": "[encoded data removed]",
            "text/plain": [
              "<Figure size 432x288 with 1 Axes>"
            ]
          },
          "metadata": {
            "tags": []
          }
        }
      ]
    },
    {
      "cell_type": "code",
      "metadata": {
        "id": "wujMddRS_Rvx",
        "outputId": "803784e1-b59a-47f7-a4a2-87ae7a52b543",
        "colab": {
          "base_uri": "https://localhost:8080/",
          "height": 34
        }
      },
      "source": [
        "txt = [\"Regular fast food eating linked to fertility issues in women\"]\n",
        "seq = tokenizer.texts_to_sequences(txt)\n",
        "padded = pad_sequences(seq, maxlen=max_len)\n",
        "pred = model.predict(padded)\n",
        "labels = ['entertainment', 'bussiness', 'science/tech', 'health']\n",
        "print(pred, labels[np.argmax(pred)])"
      ],
      "execution_count": null,
      "outputs": [
        {
          "output_type": "stream",
          "text": [
            "[[9.92953792e-05 2.86186900e-04 1.16531075e-04 9.99498010e-01]] health\n"
          ],
          "name": "stdout"
        }
      ]
    },
    {
      "cell_type": "code",
      "metadata": {
        "id": "1E6ie3qg_WMc"
      },
      "source": [],
      "execution_count": null,
      "outputs": []
    }
  ]
}